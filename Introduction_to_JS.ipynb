{
  "nbformat": 4,
  "nbformat_minor": 0,
  "metadata": {
    "colab": {
      "provenance": []
    },
    "kernelspec": {
      "name": "python3",
      "display_name": "Python 3"
    },
    "language_info": {
      "name": "python"
    }
  },
  "cells": [
    {
      "cell_type": "markdown",
      "source": [
        "Q1. What are conditional statements? Explain conditional statements with syntax and examples.\n"
      ],
      "metadata": {
        "id": "uIbBpkf8zIE8"
      }
    },
    {
      "cell_type": "markdown",
      "source": [
        "Conditional Statements in JavaScript\n",
        "Conditional statements allow your code to make decisions and execute different blocks of code based on specified conditions. They are fundamental for controlling program flow.\n",
        "\n",
        "Types of Conditional Statements in JavaScript\n",
        "1. if Statement -\n",
        "\n",
        "Executes a block of code only if a condition is true."
      ],
      "metadata": {
        "id": "v44pRAWbzOAX"
      }
    },
    {
      "cell_type": "code",
      "source": [
        "Syntax:\n",
        "if (condition) {\n",
        "  // Code to execute if condition is true\n",
        "}"
      ],
      "metadata": {
        "colab": {
          "base_uri": "https://localhost:8080/",
          "height": 106
        },
        "collapsed": true,
        "id": "8uhqmgUozjdE",
        "outputId": "895ba427-191f-4190-bdab-28f0685ea5d7"
      },
      "execution_count": null,
      "outputs": [
        {
          "output_type": "error",
          "ename": "SyntaxError",
          "evalue": "invalid syntax (<ipython-input-1-20313f0cfc05>, line 1)",
          "traceback": [
            "\u001b[0;36m  File \u001b[0;32m\"<ipython-input-1-20313f0cfc05>\"\u001b[0;36m, line \u001b[0;32m1\u001b[0m\n\u001b[0;31m    if (condition) {\u001b[0m\n\u001b[0m                   ^\u001b[0m\n\u001b[0;31mSyntaxError\u001b[0m\u001b[0;31m:\u001b[0m invalid syntax\n"
          ]
        }
      ]
    },
    {
      "cell_type": "code",
      "source": [
        "Example:\n",
        "let age = 18;\n",
        "\n",
        "if (age >= 18) {\n",
        "  console.log(\"You are an adult.\");\n",
        "}"
      ],
      "metadata": {
        "id": "zpS-u_sBzov5"
      },
      "execution_count": null,
      "outputs": []
    },
    {
      "cell_type": "markdown",
      "source": [
        "Output:\"You are an adult.\" (since age >= 18 is true)"
      ],
      "metadata": {
        "id": "VLD-k49zzyKp"
      }
    },
    {
      "cell_type": "markdown",
      "source": [
        "2. if...else Statement\n",
        "Executes one block if the condition is true, and another if false.\n",
        "\n"
      ],
      "metadata": {
        "id": "5ltBrQUUz29H"
      }
    },
    {
      "cell_type": "code",
      "source": [
        "syntax-\n",
        "if (condition) {\n",
        "  // Code if true\n",
        "} else {\n",
        "  // Code if false\n",
        "}"
      ],
      "metadata": {
        "colab": {
          "base_uri": "https://localhost:8080/",
          "height": 106
        },
        "id": "IX8JmeRyz9b-",
        "outputId": "c749feb5-9f11-4ccc-87c8-045a104da01c"
      },
      "execution_count": null,
      "outputs": [
        {
          "output_type": "error",
          "ename": "SyntaxError",
          "evalue": "invalid syntax (<ipython-input-2-a10497767d22>, line 1)",
          "traceback": [
            "\u001b[0;36m  File \u001b[0;32m\"<ipython-input-2-a10497767d22>\"\u001b[0;36m, line \u001b[0;32m1\u001b[0m\n\u001b[0;31m    if (condition) {\u001b[0m\n\u001b[0m                   ^\u001b[0m\n\u001b[0;31mSyntaxError\u001b[0m\u001b[0;31m:\u001b[0m invalid syntax\n"
          ]
        }
      ]
    },
    {
      "cell_type": "code",
      "source": [
        "Example:\n",
        "let age = 16;\n",
        "\n",
        "if (age >= 18) {\n",
        "  console.log(\"You can vote.\");\n",
        "} else {\n",
        "  console.log(\"You cannot vote yet.\");\n",
        "}"
      ],
      "metadata": {
        "id": "RffyCQa30FeU"
      },
      "execution_count": null,
      "outputs": []
    },
    {
      "cell_type": "code",
      "source": [
        "Output:\n",
        "\"You cannot vote yet.\" (since age >= 18 is false)"
      ],
      "metadata": {
        "id": "fW09ZPSk0MFp"
      },
      "execution_count": null,
      "outputs": []
    },
    {
      "cell_type": "markdown",
      "source": [
        "3. else if Statement\n",
        "Checks multiple conditions in sequence."
      ],
      "metadata": {
        "id": "Dj1Lql_d0QJe"
      }
    },
    {
      "cell_type": "code",
      "source": [
        "syntax-\n",
        "if (condition1) {\n",
        "  // Code if condition1 is true\n",
        "} else if (condition2) {\n",
        "  // Code if condition2 is true\n",
        "} else {\n",
        "  // Code if all conditions are false\n",
        "}"
      ],
      "metadata": {
        "colab": {
          "base_uri": "https://localhost:8080/",
          "height": 106
        },
        "id": "F8Vbu4uW0Ysy",
        "outputId": "f26acd81-a79e-4174-d477-1fa25b171520"
      },
      "execution_count": null,
      "outputs": [
        {
          "output_type": "error",
          "ename": "SyntaxError",
          "evalue": "invalid syntax (<ipython-input-3-4a781e97fee9>, line 1)",
          "traceback": [
            "\u001b[0;36m  File \u001b[0;32m\"<ipython-input-3-4a781e97fee9>\"\u001b[0;36m, line \u001b[0;32m1\u001b[0m\n\u001b[0;31m    if (condition1) {\u001b[0m\n\u001b[0m                    ^\u001b[0m\n\u001b[0;31mSyntaxError\u001b[0m\u001b[0;31m:\u001b[0m invalid syntax\n"
          ]
        }
      ]
    },
    {
      "cell_type": "code",
      "source": [
        "Example:\n",
        "let score = 85;\n",
        "\n",
        "if (score >= 90) {\n",
        "  console.log(\"Grade: A\");\n",
        "} else if (score >= 80) {\n",
        "  console.log(\"Grade: B\");\n",
        "} else if (score >= 70) {\n",
        "  console.log(\"Grade: C\");\n",
        "} else {\n",
        "  console.log(\"Grade: F\");\n",
        "}"
      ],
      "metadata": {
        "id": "thucAYI40Z8n"
      },
      "execution_count": null,
      "outputs": []
    },
    {
      "cell_type": "code",
      "source": [
        "Output:\"Grade: B\" (since score >= 80 is true)"
      ],
      "metadata": {
        "id": "w4upmkrH0jJC"
      },
      "execution_count": null,
      "outputs": []
    },
    {
      "cell_type": "markdown",
      "source": [
        "4. switch Statement\n",
        "Used for multiple conditions based on the same variable."
      ],
      "metadata": {
        "id": "sBZLxhuF0qTW"
      }
    },
    {
      "cell_type": "code",
      "source": [
        "Example:\n",
        "switch (expression) {\n",
        "  case value1:\n",
        "    // Code for value1\n",
        "    break;\n",
        "  case value2:\n",
        "    // Code for value2\n",
        "    break;\n",
        "  default:\n",
        "    // Code if no cases match\n",
        "}"
      ],
      "metadata": {
        "colab": {
          "base_uri": "https://localhost:8080/",
          "height": 106
        },
        "collapsed": true,
        "id": "G8g0wM5a0vcN",
        "outputId": "75eb0496-1ba1-4484-e818-b4b97db34986"
      },
      "execution_count": null,
      "outputs": [
        {
          "output_type": "error",
          "ename": "SyntaxError",
          "evalue": "invalid syntax (<ipython-input-4-e06b8459fb67>, line 1)",
          "traceback": [
            "\u001b[0;36m  File \u001b[0;32m\"<ipython-input-4-e06b8459fb67>\"\u001b[0;36m, line \u001b[0;32m1\u001b[0m\n\u001b[0;31m    Example:\u001b[0m\n\u001b[0m            ^\u001b[0m\n\u001b[0;31mSyntaxError\u001b[0m\u001b[0;31m:\u001b[0m invalid syntax\n"
          ]
        }
      ]
    },
    {
      "cell_type": "markdown",
      "source": [
        "Output:\"Start of the workweek!\" (since day === \"Monday\")"
      ],
      "metadata": {
        "id": "L2WcGCYa01SM"
      }
    },
    {
      "cell_type": "markdown",
      "source": [
        "Q2. Write a program that grades students based on their marks^\n",
        "- If greater than 90 then A GradE\n",
        "- If between 70 and 90 then a B gradE\n",
        "- If between 50 and 70 then a C gradE\n",
        "- Below 50 then an F grade"
      ],
      "metadata": {
        "id": "YDybfq0m5E3i"
      }
    },
    {
      "cell_type": "code",
      "source": [
        "let marks = 65;\n",
        "if(marks > 90){\n",
        "    console.log(\"A Grade\");\n",
        "}else if(marks > 70 && marks < 90 ){\n",
        "    console.log(\"B Grade\");\n",
        "}else if(marks > 50 && marks < 70){\n",
        "    console.log(\"C Grade\");\n",
        "}else{\n",
        "    console.log(\"F Grade\");\n",
        "}"
      ],
      "metadata": {
        "id": "EvxwUGHO5JxQ"
      },
      "execution_count": null,
      "outputs": []
    },
    {
      "cell_type": "markdown",
      "source": [
        "Output: \"C Grade\""
      ],
      "metadata": {
        "id": "gRhDdzr45fRe"
      }
    },
    {
      "cell_type": "markdown",
      "source": [
        "Q3. What are loops, and what do we need them? Explain different types of loops with their syntax and examples."
      ],
      "metadata": {
        "id": "ONCKBBvD5P4V"
      }
    },
    {
      "cell_type": "markdown",
      "source": [
        "Loops are fundamental control structures that allow you to repeatedly execute a block of code as long as a specified condition is met. They are essential for automating repetitive tasks and processing collections of data efficiently.\n",
        "\n",
        "Why We Need Loops\n",
        "\n",
        "    1.Avoid code repetition: Instead of writing the same code multiple times, you can write it once inside a loop\n",
        "\n",
        "    2.Process collections: Work with arrays, lists, or other data structures\n",
        "\n",
        "    3.Implement algorithms: Many algorithms require iterative processes\n",
        "\n",
        "    4.Handle dynamic conditions: Execute code until a certain condition changes\n",
        "\n",
        "Types of Loops\n",
        "1. For Loop\n",
        "\n",
        "Executes a block of code a specific number of times."
      ],
      "metadata": {
        "id": "Id7iegWG5oTl"
      }
    },
    {
      "cell_type": "code",
      "source": [
        "for (initialization; condition; increment/decrement) {\n",
        "    // code to be executed\n",
        "}"
      ],
      "metadata": {
        "id": "Q_6RyUuoFMqq"
      },
      "execution_count": null,
      "outputs": []
    },
    {
      "cell_type": "code",
      "source": [
        "Example:\n",
        "\n",
        "for (let i = 0; i < 5; i++) {\n",
        "    console.log(\"Iteration number: \" + i);\n",
        "}"
      ],
      "metadata": {
        "id": "ZhWiM-JFFX7x"
      },
      "execution_count": null,
      "outputs": []
    },
    {
      "cell_type": "markdown",
      "source": [
        "2. While Loop\n",
        "\n",
        "Repeats a block of code while a condition is true.[link text](https://)"
      ],
      "metadata": {
        "id": "t7lbA3afFcVT"
      }
    },
    {
      "cell_type": "code",
      "source": [
        "Syntax:\n",
        "\n",
        "while (condition) {\n",
        "    // code to be executed\n",
        "}"
      ],
      "metadata": {
        "id": "vMsmOd5iFh8d"
      },
      "execution_count": null,
      "outputs": []
    },
    {
      "cell_type": "code",
      "source": [
        "Example:\n",
        "\n",
        "let count = 0;\n",
        "while (count < 5) {\n",
        "    console.log(\"Count is: \" + count);\n",
        "    count++;\n",
        "}"
      ],
      "metadata": {
        "id": "cenNYoGRFm53"
      },
      "execution_count": null,
      "outputs": []
    },
    {
      "cell_type": "markdown",
      "source": [
        "3. Do-While Loop\n",
        "\n",
        "Similar to while loop but guarantees at least one execution."
      ],
      "metadata": {
        "id": "yAMn3QNWFvLB"
      }
    },
    {
      "cell_type": "code",
      "source": [
        "do {\n",
        "    // code to be executed\n",
        "} while (condition);"
      ],
      "metadata": {
        "id": "ljT-otZNGCfw"
      },
      "execution_count": null,
      "outputs": []
    },
    {
      "cell_type": "code",
      "source": [
        "Example:\n",
        "\n",
        "let num = 10;\n",
        "do {\n",
        "    console.log(\"Number is: \" + num);\n",
        "    num++;\n",
        "} while (num < 5); // Still runs once"
      ],
      "metadata": {
        "id": "aIdJmD5cGFdr"
      },
      "execution_count": null,
      "outputs": []
    },
    {
      "cell_type": "markdown",
      "source": [
        "4. For-In Loop (for objects)\n",
        "\n",
        "Iterates over the enumerable properties of an object."
      ],
      "metadata": {
        "id": "iOIt5uK-GOrr"
      }
    },
    {
      "cell_type": "code",
      "source": [
        "Syntax:\n",
        "\n",
        "for (let key in object) {\n",
        "    // code to be executed\n",
        "}"
      ],
      "metadata": {
        "id": "S8cWUt-NGT69"
      },
      "execution_count": null,
      "outputs": []
    },
    {
      "cell_type": "code",
      "source": [
        "Example:\n",
        "\n",
        "const person = {name: \"John\", age: 30, job: \"Developer\"};\n",
        "for (let prop in person) {\n",
        "    console.log(prop + \": \" + person[prop]);\n",
        "}"
      ],
      "metadata": {
        "id": "5qKcLZmpGY88"
      },
      "execution_count": null,
      "outputs": []
    },
    {
      "cell_type": "markdown",
      "source": [
        "5. For-Of Loop (for iterables)\n",
        "\n",
        "Iterates over iterable objects like arrays, strings, etc."
      ],
      "metadata": {
        "id": "BaYs2n5RGdty"
      }
    },
    {
      "cell_type": "code",
      "source": [
        "Syntax:\n",
        "for (let element of iterable) {\n",
        "    // code to be executed\n",
        "}"
      ],
      "metadata": {
        "id": "lVXRRByFGkD6"
      },
      "execution_count": null,
      "outputs": []
    },
    {
      "cell_type": "code",
      "source": [
        "Example:\n",
        "\n",
        "const colors = ['red', 'green', 'blue'];\n",
        "for (let color of colors) {\n",
        "    console.log(color);\n",
        "}"
      ],
      "metadata": {
        "id": "zAWs_WiBGojq"
      },
      "execution_count": null,
      "outputs": []
    },
    {
      "cell_type": "markdown",
      "source": [
        "6.Loop Control Statements\n",
        "\n",
        "    1.break: Exits the loop immediately\n",
        "\n",
        "    2.continue: Skips the current iteration and moves to the next one"
      ],
      "metadata": {
        "id": "ZS-4ZSJNGypv"
      }
    },
    {
      "cell_type": "code",
      "source": [
        "Example:\n",
        "for (let i = 0; i < 10; i++) {\n",
        "    if (i === 5) break; // stops at 5\n",
        "    if (i % 2 === 0) continue; // skips even numbers\n",
        "    console.log(i); // prints 1, 3\n",
        "}"
      ],
      "metadata": {
        "id": "fimD6cW2G9Pa"
      },
      "execution_count": null,
      "outputs": []
    },
    {
      "cell_type": "markdown",
      "source": [
        "Loops are powerful tools that make programs more efficient and concise by automating repetitive tasks and processing data structures."
      ],
      "metadata": {
        "id": "ZI-rMU3RHE7n"
      }
    },
    {
      "cell_type": "markdown",
      "source": [
        "Q4. Generate numbers between any 2 given numbers.\n",
        "\n",
        "Ex\n",
        "\n",
        "8 const num1 = 10\n",
        "8 const num2 = 25;\n",
        "\n",
        "Output: 11, 12, 13, …., 2"
      ],
      "metadata": {
        "id": "t5iN_dJSIIFO"
      }
    },
    {
      "cell_type": "code",
      "source": [
        "Ans-\n",
        "function printBetweenNumbers(x, y) {\n",
        "\n",
        "    // if x > y then swap\n",
        "  if (x > y) {\n",
        "    let temp;\n",
        "    temp = x;\n",
        "    x = y;\n",
        "    y = temp;\n",
        "  }\n",
        "\n",
        "  // print numbers betweeen x and y\n",
        "  for (i = x + 1; i < y; i++) {\n",
        "    console.log(i);\n",
        "  }\n",
        "}\n",
        "\n",
        "printBetweenNumbers(20, 38);\n"
      ],
      "metadata": {
        "id": "l6w0L8swMO3Z"
      },
      "execution_count": null,
      "outputs": []
    },
    {
      "cell_type": "markdown",
      "source": [
        "Q5. Use the while loop to print numbers from 1 to 25 in ascending and descending order."
      ],
      "metadata": {
        "id": "QqcyHm9CSHSo"
      }
    },
    {
      "cell_type": "code",
      "source": [
        "function calculateAscendingNumbers(x, y) {\n",
        "  let result = \"\";\n",
        "  let i = x;\n",
        "  while (i <= y) {\n",
        "    result += i + \" \";\n",
        "    i++;\n",
        "  }\n",
        "  console.log(result.trim(),\"<-- Ascending Numbers\");\n",
        "}\n",
        "\n",
        "function calculateDescendingNumbers(x, y) {\n",
        "  let result = \"\";\n",
        "  let i = y;\n",
        "  while (i >= x) {\n",
        "    result += i + \" \";\n",
        "    i--;\n",
        "  }\n",
        "  console.log(result.trim(),\"<-- Descending Numbers\");\n",
        "\n",
        "}\n",
        "\n",
        "calculateAscendingNumbers(1, 25);\n",
        "calculateDescendingNumbers(1, 25);"
      ],
      "metadata": {
        "id": "JVBeN_luSQM-"
      },
      "execution_count": null,
      "outputs": []
    }
  ]
}